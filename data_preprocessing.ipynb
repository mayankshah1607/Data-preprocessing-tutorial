{
 "cells": [
  {
   "cell_type": "markdown",
   "metadata": {},
   "source": [
    "## Data Preprocessing"
   ]
  },
  {
   "cell_type": "markdown",
   "metadata": {},
   "source": [
    "#### First, we begin by importing the data and analysing it."
   ]
  },
  {
   "cell_type": "code",
   "execution_count": 1,
   "metadata": {},
   "outputs": [],
   "source": [
    "import pandas as pd\n",
    "\n",
    "data = pd.read_csv('raw_data.csv')"
   ]
  },
  {
   "cell_type": "code",
   "execution_count": 2,
   "metadata": {},
   "outputs": [
    {
     "name": "stdout",
     "output_type": "stream",
     "text": [
      "<class 'pandas.core.frame.DataFrame'>\n",
      "RangeIndex: 50 entries, 0 to 49\n",
      "Data columns (total 5 columns):\n",
      "R&D Spend          47 non-null float64\n",
      "Administration     49 non-null float64\n",
      "Marketing Spend    49 non-null float64\n",
      "State              50 non-null object\n",
      "Profit             50 non-null float64\n",
      "dtypes: float64(4), object(1)\n",
      "memory usage: 2.0+ KB\n"
     ]
    }
   ],
   "source": [
    "data.info()"
   ]
  },
  {
   "cell_type": "markdown",
   "metadata": {},
   "source": [
    "We observe that there are total, 50 entries - out of which, there are 3 NaNs in 'R&D Spend', 1 NaN in 'Administration', 1 NaN in 'Markering Spend'"
   ]
  },
  {
   "cell_type": "code",
   "execution_count": 3,
   "metadata": {},
   "outputs": [
    {
     "data": {
      "text/html": [
       "<div>\n",
       "<style scoped>\n",
       "    .dataframe tbody tr th:only-of-type {\n",
       "        vertical-align: middle;\n",
       "    }\n",
       "\n",
       "    .dataframe tbody tr th {\n",
       "        vertical-align: top;\n",
       "    }\n",
       "\n",
       "    .dataframe thead th {\n",
       "        text-align: right;\n",
       "    }\n",
       "</style>\n",
       "<table border=\"1\" class=\"dataframe\">\n",
       "  <thead>\n",
       "    <tr style=\"text-align: right;\">\n",
       "      <th></th>\n",
       "      <th>R&amp;D Spend</th>\n",
       "      <th>Administration</th>\n",
       "      <th>Marketing Spend</th>\n",
       "      <th>State</th>\n",
       "      <th>Profit</th>\n",
       "    </tr>\n",
       "  </thead>\n",
       "  <tbody>\n",
       "    <tr>\n",
       "      <th>0</th>\n",
       "      <td>165349.20</td>\n",
       "      <td>136897.80</td>\n",
       "      <td>471784.10</td>\n",
       "      <td>New York</td>\n",
       "      <td>192261.83</td>\n",
       "    </tr>\n",
       "    <tr>\n",
       "      <th>1</th>\n",
       "      <td>162597.70</td>\n",
       "      <td>151377.59</td>\n",
       "      <td>443898.53</td>\n",
       "      <td>California</td>\n",
       "      <td>191792.06</td>\n",
       "    </tr>\n",
       "    <tr>\n",
       "      <th>2</th>\n",
       "      <td>153441.51</td>\n",
       "      <td>101145.55</td>\n",
       "      <td>407934.54</td>\n",
       "      <td>Florida</td>\n",
       "      <td>191050.39</td>\n",
       "    </tr>\n",
       "    <tr>\n",
       "      <th>3</th>\n",
       "      <td>144372.41</td>\n",
       "      <td>118671.85</td>\n",
       "      <td>383199.62</td>\n",
       "      <td>New York</td>\n",
       "      <td>182901.99</td>\n",
       "    </tr>\n",
       "    <tr>\n",
       "      <th>4</th>\n",
       "      <td>142107.34</td>\n",
       "      <td>91391.77</td>\n",
       "      <td>366168.42</td>\n",
       "      <td>Florida</td>\n",
       "      <td>166187.94</td>\n",
       "    </tr>\n",
       "  </tbody>\n",
       "</table>\n",
       "</div>"
      ],
      "text/plain": [
       "   R&D Spend  Administration  Marketing Spend       State     Profit\n",
       "0  165349.20       136897.80        471784.10    New York  192261.83\n",
       "1  162597.70       151377.59        443898.53  California  191792.06\n",
       "2  153441.51       101145.55        407934.54     Florida  191050.39\n",
       "3  144372.41       118671.85        383199.62    New York  182901.99\n",
       "4  142107.34        91391.77        366168.42     Florida  166187.94"
      ]
     },
     "execution_count": 3,
     "metadata": {},
     "output_type": "execute_result"
    }
   ],
   "source": [
    "data.head()"
   ]
  },
  {
   "cell_type": "markdown",
   "metadata": {},
   "source": [
    "While the first 3 Features are numerical, 'State' is a categorical feature."
   ]
  },
  {
   "cell_type": "markdown",
   "metadata": {},
   "source": [
    "### Now, we're about to perform 4 tasks: \n",
    "#### 1. Fill Missing Values\n",
    "#### 2. One-Hot encode 'State'\n",
    "#### 3. Normalize\n",
    "#### 4. Split training and testing data"
   ]
  },
  {
   "cell_type": "markdown",
   "metadata": {},
   "source": [
    "Before we proceed, let's store the data frame in an array X and y, where X is the matrix of features and y is an array of output values"
   ]
  },
  {
   "cell_type": "code",
   "execution_count": 6,
   "metadata": {},
   "outputs": [],
   "source": [
    "X = data.iloc[:,:-1].values\n",
    "y = data.iloc[:,-1].values"
   ]
  },
  {
   "cell_type": "markdown",
   "metadata": {},
   "source": [
    "### 1. Fill Missing values\n",
    "#### We'll be using Sklearn's Imputer library for this task"
   ]
  },
  {
   "cell_type": "code",
   "execution_count": 10,
   "metadata": {},
   "outputs": [],
   "source": [
    "from sklearn.preprocessing import Imputer\n",
    "imputer = Imputer(missing_values='NaN',strategy='mean',axis=0)  \n",
    "# imputer = imputer.fit(X[:,:-1])\n",
    "X[:,:-1]= imputer.fit_transform(X[:,:-1])"
   ]
  },
  {
   "cell_type": "markdown",
   "metadata": {},
   "source": [
    "### 2. One-Hot encoding\n",
    "\n",
    "#### We'll first Label encode State, and then One-hot encode it"
   ]
  },
  {
   "cell_type": "code",
   "execution_count": 16,
   "metadata": {},
   "outputs": [],
   "source": [
    "from sklearn.preprocessing import LabelEncoder\n",
    "\n",
    "labelencoder = LabelEncoder()\n",
    "X[:, -1] = labelencoder.fit_transform(X[:, -1])"
   ]
  },
  {
   "cell_type": "code",
   "execution_count": 17,
   "metadata": {},
   "outputs": [
    {
     "data": {
      "text/plain": [
       "array([2, 0, 1, 2, 1, 2, 0, 1, 2, 0, 1, 0, 1, 0, 1, 2, 0, 2, 1, 2, 0, 2,\n",
       "       1, 1, 2, 0, 1, 2, 1, 2, 1, 2, 0, 1, 0, 2, 1, 0, 2, 0, 0, 1, 0, 2,\n",
       "       0, 2, 1, 0, 2, 0], dtype=object)"
      ]
     },
     "execution_count": 17,
     "metadata": {},
     "output_type": "execute_result"
    }
   ],
   "source": [
    "X[:,-1]"
   ]
  },
  {
   "cell_type": "markdown",
   "metadata": {},
   "source": [
    "But, just label encoding isn't enough. In fact, it can cause many problems. Why?"
   ]
  },
  {
   "cell_type": "markdown",
   "metadata": {},
   "source": [
    "Let's one-hot encode it"
   ]
  },
  {
   "cell_type": "code",
   "execution_count": 19,
   "metadata": {},
   "outputs": [],
   "source": [
    "from sklearn.preprocessing import OneHotEncoder\n",
    "onehotencoder = OneHotEncoder(categorical_features = [-1])\n",
    "X = onehotencoder.fit_transform(X).toarray()"
   ]
  },
  {
   "cell_type": "code",
   "execution_count": 20,
   "metadata": {},
   "outputs": [
    {
     "data": {
      "text/plain": [
       "array([[0.00000000e+00, 0.00000000e+00, 1.00000000e+00, 1.65349200e+05,\n",
       "        1.36897800e+05, 4.71784100e+05],\n",
       "       [1.00000000e+00, 0.00000000e+00, 0.00000000e+00, 1.62597700e+05,\n",
       "        1.51377590e+05, 4.43898530e+05],\n",
       "       [0.00000000e+00, 1.00000000e+00, 0.00000000e+00, 1.53441510e+05,\n",
       "        1.01145550e+05, 4.07934540e+05],\n",
       "       [0.00000000e+00, 0.00000000e+00, 1.00000000e+00, 1.44372410e+05,\n",
       "        1.18671850e+05, 3.83199620e+05],\n",
       "       [0.00000000e+00, 1.00000000e+00, 0.00000000e+00, 1.42107340e+05,\n",
       "        9.13917700e+04, 3.66168420e+05],\n",
       "       [0.00000000e+00, 0.00000000e+00, 1.00000000e+00, 1.31876900e+05,\n",
       "        9.98147100e+04, 3.62861360e+05],\n",
       "       [1.00000000e+00, 0.00000000e+00, 0.00000000e+00, 1.34615460e+05,\n",
       "        1.47198870e+05, 1.27716820e+05],\n",
       "       [0.00000000e+00, 1.00000000e+00, 0.00000000e+00, 7.56549500e+04,\n",
       "        1.45530060e+05, 3.23876680e+05],\n",
       "       [0.00000000e+00, 0.00000000e+00, 1.00000000e+00, 1.20542520e+05,\n",
       "        1.48718950e+05, 3.11613290e+05],\n",
       "       [1.00000000e+00, 0.00000000e+00, 0.00000000e+00, 1.23334880e+05,\n",
       "        1.08679170e+05, 3.04981620e+05],\n",
       "       [0.00000000e+00, 1.00000000e+00, 0.00000000e+00, 1.01913080e+05,\n",
       "        1.10594110e+05, 2.29160950e+05],\n",
       "       [1.00000000e+00, 0.00000000e+00, 0.00000000e+00, 1.00671960e+05,\n",
       "        9.17906100e+04, 2.49744550e+05],\n",
       "       [0.00000000e+00, 1.00000000e+00, 0.00000000e+00, 9.38637500e+04,\n",
       "        1.27320380e+05, 2.49839440e+05],\n",
       "       [1.00000000e+00, 0.00000000e+00, 0.00000000e+00, 9.19923900e+04,\n",
       "        1.35495070e+05, 2.52664930e+05],\n",
       "       [0.00000000e+00, 1.00000000e+00, 0.00000000e+00, 1.19943240e+05,\n",
       "        1.56547420e+05, 2.56512920e+05],\n",
       "       [0.00000000e+00, 0.00000000e+00, 1.00000000e+00, 1.14523610e+05,\n",
       "        1.22616840e+05, 2.61776230e+05],\n",
       "       [1.00000000e+00, 0.00000000e+00, 0.00000000e+00, 7.80131100e+04,\n",
       "        1.21597550e+05, 2.64346060e+05],\n",
       "       [0.00000000e+00, 0.00000000e+00, 1.00000000e+00, 9.46571600e+04,\n",
       "        1.45077580e+05, 2.82574310e+05],\n",
       "       [0.00000000e+00, 1.00000000e+00, 0.00000000e+00, 9.17491600e+04,\n",
       "        1.14175790e+05, 2.94919570e+05],\n",
       "       [0.00000000e+00, 0.00000000e+00, 1.00000000e+00, 8.64197000e+04,\n",
       "        1.53514110e+05, 2.15331732e+05],\n",
       "       [1.00000000e+00, 0.00000000e+00, 0.00000000e+00, 7.62538600e+04,\n",
       "        1.13867300e+05, 2.98664470e+05],\n",
       "       [0.00000000e+00, 0.00000000e+00, 1.00000000e+00, 7.83894700e+04,\n",
       "        1.53773430e+05, 2.99737290e+05],\n",
       "       [0.00000000e+00, 1.00000000e+00, 0.00000000e+00, 7.39945600e+04,\n",
       "        1.22782750e+05, 3.03319260e+05],\n",
       "       [0.00000000e+00, 1.00000000e+00, 0.00000000e+00, 6.75325300e+04,\n",
       "        1.05751030e+05, 3.04768730e+05],\n",
       "       [0.00000000e+00, 0.00000000e+00, 1.00000000e+00, 7.70440100e+04,\n",
       "        9.92813400e+04, 1.40574810e+05],\n",
       "       [1.00000000e+00, 0.00000000e+00, 0.00000000e+00, 6.46647100e+04,\n",
       "        1.39553160e+05, 1.37962620e+05],\n",
       "       [0.00000000e+00, 1.00000000e+00, 0.00000000e+00, 7.53288700e+04,\n",
       "        1.44135980e+05, 1.34050070e+05],\n",
       "       [0.00000000e+00, 0.00000000e+00, 1.00000000e+00, 7.21076000e+04,\n",
       "        1.27864550e+05, 3.53183810e+05],\n",
       "       [0.00000000e+00, 1.00000000e+00, 0.00000000e+00, 6.60515200e+04,\n",
       "        1.82645560e+05, 1.18148200e+05],\n",
       "       [0.00000000e+00, 0.00000000e+00, 1.00000000e+00, 6.56054800e+04,\n",
       "        1.53032060e+05, 1.07138380e+05],\n",
       "       [0.00000000e+00, 1.00000000e+00, 0.00000000e+00, 6.19944800e+04,\n",
       "        1.15641280e+05, 9.11312400e+04],\n",
       "       [0.00000000e+00, 0.00000000e+00, 1.00000000e+00, 6.11363800e+04,\n",
       "        1.52701920e+05, 8.82182300e+04],\n",
       "       [1.00000000e+00, 0.00000000e+00, 0.00000000e+00, 6.34088600e+04,\n",
       "        1.29219610e+05, 4.60852500e+04],\n",
       "       [0.00000000e+00, 1.00000000e+00, 0.00000000e+00, 5.54939500e+04,\n",
       "        1.03057490e+05, 2.14634810e+05],\n",
       "       [1.00000000e+00, 0.00000000e+00, 0.00000000e+00, 4.64260700e+04,\n",
       "        1.57693920e+05, 2.10797670e+05],\n",
       "       [0.00000000e+00, 0.00000000e+00, 1.00000000e+00, 4.60140200e+04,\n",
       "        8.50474400e+04, 2.05517640e+05],\n",
       "       [0.00000000e+00, 1.00000000e+00, 0.00000000e+00, 2.86637600e+04,\n",
       "        1.27056210e+05, 2.01126820e+05],\n",
       "       [1.00000000e+00, 0.00000000e+00, 0.00000000e+00, 4.40699500e+04,\n",
       "        5.12831400e+04, 1.97029420e+05],\n",
       "       [0.00000000e+00, 0.00000000e+00, 1.00000000e+00, 2.02295900e+04,\n",
       "        6.59479300e+04, 1.85265100e+05],\n",
       "       [1.00000000e+00, 0.00000000e+00, 0.00000000e+00, 3.85585100e+04,\n",
       "        8.29820900e+04, 1.74999300e+05],\n",
       "       [1.00000000e+00, 0.00000000e+00, 0.00000000e+00, 2.87543300e+04,\n",
       "        1.21401754e+05, 1.72795670e+05],\n",
       "       [0.00000000e+00, 1.00000000e+00, 0.00000000e+00, 2.78929200e+04,\n",
       "        8.47107700e+04, 1.64470710e+05],\n",
       "       [1.00000000e+00, 0.00000000e+00, 0.00000000e+00, 2.36409300e+04,\n",
       "        9.61896300e+04, 1.48001110e+05],\n",
       "       [0.00000000e+00, 0.00000000e+00, 1.00000000e+00, 1.55057300e+04,\n",
       "        1.27382300e+05, 3.55341700e+04],\n",
       "       [1.00000000e+00, 0.00000000e+00, 0.00000000e+00, 2.21777400e+04,\n",
       "        1.54806140e+05, 2.83347200e+04],\n",
       "       [0.00000000e+00, 0.00000000e+00, 1.00000000e+00, 1.00023000e+03,\n",
       "        1.24153040e+05, 1.90393000e+03],\n",
       "       [0.00000000e+00, 1.00000000e+00, 0.00000000e+00, 1.31546000e+03,\n",
       "        1.15816210e+05, 2.97114460e+05],\n",
       "       [1.00000000e+00, 0.00000000e+00, 0.00000000e+00, 7.56549500e+04,\n",
       "        1.35426920e+05, 0.00000000e+00],\n",
       "       [0.00000000e+00, 0.00000000e+00, 1.00000000e+00, 5.42050000e+02,\n",
       "        5.17431500e+04, 0.00000000e+00],\n",
       "       [1.00000000e+00, 0.00000000e+00, 0.00000000e+00, 7.56549500e+04,\n",
       "        1.16983800e+05, 4.51730600e+04]])"
      ]
     },
     "execution_count": 20,
     "metadata": {},
     "output_type": "execute_result"
    }
   ],
   "source": [
    "X"
   ]
  },
  {
   "cell_type": "markdown",
   "metadata": {},
   "source": [
    "Now, instead of 'State', we have 3 new features - each for one state"
   ]
  },
  {
   "cell_type": "markdown",
   "metadata": {},
   "source": [
    "### 3. Normalization\n",
    "#### For this, we'll use Sklearn's StandardScaler library"
   ]
  },
  {
   "cell_type": "code",
   "execution_count": 23,
   "metadata": {},
   "outputs": [],
   "source": [
    "from sklearn.preprocessing import StandardScaler\n",
    "\n",
    "scaler = StandardScaler()\n",
    "X[:,3:] = scaler.fit_transform(X[:,3:])"
   ]
  },
  {
   "cell_type": "code",
   "execution_count": 24,
   "metadata": {},
   "outputs": [
    {
     "data": {
      "text/plain": [
       "array([[ 2.12598736e+00,  5.58751776e-01,  2.18727067e+00],\n",
       "       [ 2.06076964e+00,  1.08085969e+00,  1.94943591e+00],\n",
       "       [ 1.84374409e+00, -7.30392097e-01,  1.64270066e+00],\n",
       "       [ 1.62878280e+00, -9.84340453e-02,  1.43173764e+00],\n",
       "       [ 1.57509474e+00, -1.08209096e+00,  1.28647930e+00],\n",
       "       [ 1.33260666e+00, -7.78379126e-01,  1.25827354e+00],\n",
       "       [ 1.39751767e+00,  9.30184659e-01, -7.47263636e-01],\n",
       "       [-3.44918296e-16,  8.70011210e-01,  9.25774961e-01],\n",
       "       [ 1.06395233e+00,  9.84995246e-01,  8.21181061e-01],\n",
       "       [ 1.13013854e+00, -4.58747094e-01,  7.64619847e-01],\n",
       "       [ 6.22386078e-01, -3.89698764e-01,  1.17948773e-01],\n",
       "       [ 5.92968301e-01, -1.06770971e+00,  2.93505368e-01],\n",
       "       [ 4.31595990e-01,  2.13412047e-01,  2.94314681e-01],\n",
       "       [ 3.87239884e-01,  5.08172560e-01,  3.18413158e-01],\n",
       "       [ 1.04974784e+00,  1.26727186e+00,  3.51232491e-01],\n",
       "       [ 9.21288487e-01,  4.38132172e-02,  3.96123024e-01],\n",
       "       [ 5.58945346e-02,  7.05996503e-03,  4.18040989e-01],\n",
       "       [ 4.50401874e-01,  8.53695822e-01,  5.73508910e-01],\n",
       "       [ 3.81474699e-01, -2.60551624e-01,  6.78801076e-01],\n",
       "       [ 2.55152615e-01,  1.15789768e+00, -2.48225257e-16],\n",
       "       [ 1.41957270e-02, -2.71675064e-01,  7.10741159e-01],\n",
       "       [ 6.48152469e-02,  1.16724817e+00,  7.19891193e-01],\n",
       "       [-3.93555680e-02,  4.97955500e-02,  7.50441653e-01],\n",
       "       [-1.92522511e-01, -5.64329085e-01,  7.62804117e-01],\n",
       "       [ 3.29243402e-02, -7.97611221e-01, -6.37598419e-01],\n",
       "       [-2.60497315e-01,  6.54497948e-01, -6.59877670e-01],\n",
       "       [-7.72894538e-03,  8.19743893e-01, -6.93247632e-01],\n",
       "       [-8.40814352e-02,  2.33033565e-01,  1.17573415e+00],\n",
       "       [-2.27626306e-01,  2.20831074e+00, -8.28873964e-01],\n",
       "       [-2.38198616e-01,  1.14051607e+00, -9.22776222e-01],\n",
       "       [-3.23788722e-01, -2.07709427e-01, -1.05930040e+00],\n",
       "       [-3.44127927e-01,  1.12861198e+00, -1.08414533e+00],\n",
       "       [-2.90264232e-01,  2.81893911e-01, -1.44349561e+00],\n",
       "       [-4.77868216e-01, -6.61451940e-01, -5.94402013e-03],\n",
       "       [-6.92800592e-01,  1.30861201e+00, -3.86708141e-02],\n",
       "       [-7.02567250e-01, -1.31085290e+00, -8.37039518e-02],\n",
       "       [-1.11381361e+00,  2.03886685e-01, -1.21153057e-01],\n",
       "       [-7.48646773e-01, -2.52831587e+00, -1.56099597e-01],\n",
       "       [-1.31372540e+00, -1.99953729e+00, -2.56436952e-01],\n",
       "       [-8.79282257e-01, -1.38532467e+00, -3.43993497e-01],\n",
       "       [-1.11166686e+00,  1.57412574e-15, -3.62788158e-01],\n",
       "       [-1.13208452e+00, -1.32299245e+00, -4.33791366e-01],\n",
       "       [-1.23286776e+00, -9.09091170e-01, -5.74259841e-01],\n",
       "       [-1.42569319e+00,  2.15644740e-01, -1.53348530e+00],\n",
       "       [-1.26754917e+00,  1.20448531e+00, -1.59488908e+00],\n",
       "       [-1.76951133e+00,  9.92050546e-02, -1.82031610e+00],\n",
       "       [-1.76203955e+00, -2.01401853e-01,  6.97521194e-01],\n",
       "       [-3.44918296e-16,  5.05715228e-01, -1.83655463e+00],\n",
       "       [-1.78037138e+00, -2.51172897e+00, -1.83655463e+00],\n",
       "       [-3.44918296e-16, -1.59301244e-01, -1.45127564e+00]])"
      ]
     },
     "execution_count": 24,
     "metadata": {},
     "output_type": "execute_result"
    }
   ],
   "source": [
    "X[:,3:]"
   ]
  },
  {
   "cell_type": "markdown",
   "metadata": {},
   "source": [
    "Now, all values are in the same range."
   ]
  },
  {
   "cell_type": "markdown",
   "metadata": {},
   "source": [
    "### 4. Finally, train-test split\n",
    "#### For this, we'll use sklearn's train_test_split library "
   ]
  },
  {
   "cell_type": "code",
   "execution_count": 25,
   "metadata": {},
   "outputs": [],
   "source": [
    "from sklearn.model_selection import train_test_split\n",
    "\n",
    "xTrain, xTest, yTrain, yTest = train_test_split(X, y, test_size = 0.2, random_state = 0)"
   ]
  },
  {
   "cell_type": "markdown",
   "metadata": {},
   "source": [
    "#### Now, are data is clean and ready to be fed into a Machine Learning algorithm."
   ]
  },
  {
   "cell_type": "code",
   "execution_count": null,
   "metadata": {},
   "outputs": [],
   "source": []
  }
 ],
 "metadata": {
  "kernelspec": {
   "display_name": "Python 3",
   "language": "python",
   "name": "python3"
  },
  "language_info": {
   "codemirror_mode": {
    "name": "ipython",
    "version": 3
   },
   "file_extension": ".py",
   "mimetype": "text/x-python",
   "name": "python",
   "nbconvert_exporter": "python",
   "pygments_lexer": "ipython3",
   "version": "3.6.7"
  }
 },
 "nbformat": 4,
 "nbformat_minor": 2
}
